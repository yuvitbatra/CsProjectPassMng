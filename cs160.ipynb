{
  "nbformat": 4,
  "nbformat_minor": 0,
  "metadata": {
    "colab": {
      "provenance": [],
      "authorship_tag": "ABX9TyNYm3enryhutyQZf/U7S9n3",
      "include_colab_link": true
    },
    "kernelspec": {
      "name": "python3",
      "display_name": "Python 3"
    },
    "language_info": {
      "name": "python"
    }
  },
  "cells": [
    {
      "cell_type": "markdown",
      "metadata": {
        "id": "view-in-github",
        "colab_type": "text"
      },
      "source": [
        "<a href=\"https://colab.research.google.com/github/yuvitbatra/CsProjectPassMng/blob/main/cs160.ipynb\" target=\"_parent\"><img src=\"https://colab.research.google.com/assets/colab-badge.svg\" alt=\"Open In Colab\"/></a>"
      ]
    },
    {
      "cell_type": "code",
      "execution_count": 1,
      "metadata": {
        "id": "zE24pLPl2YIp"
      },
      "outputs": [],
      "source": [
        "# -*- coding: utf-8 -*-\n",
        "\"\"\"\n",
        "Created on Sun Mar 30 16:25:44 2025\n",
        "\n",
        "@author: yuvit\n",
        "\"\"\"\n",
        "\n",
        "def memo_rob(houses: list[int], i: int):\n",
        "    '''\n",
        "    Given a list of houses and i = len(houses) - 1, return the most money you\n",
        "    can rob from i = 0 to i = len(houses) - 1.\n",
        "    '''\n",
        "\n",
        "    def _memo_rob(memo: dict[int, int], idx: int):\n",
        "        if idx == -1:\n",
        "            return 0\n",
        "\n",
        "        if idx in memo:\n",
        "            return memo[idx]\n",
        "\n",
        "        if idx == 0:\n",
        "            memo[0] = houses[0]\n",
        "            return memo[0]\n",
        "\n",
        "        memo[idx] = max(_memo_rob(memo, idx - 1), houses[idx] + _memo_rob(memo, idx - 2))\n",
        "        return memo[idx]\n",
        "\n",
        "    return _memo_rob({}, i)\n",
        "\n",
        "def memo_SBS(A: list[int], target: int, i: int):\n",
        "    '''\n",
        "    Given a list of numbers, a target sum, and i = len(A) - 1, return true\n",
        "    if the target sum can be made using numbers in A from i = 0 to i = len(A) - 1.\n",
        "    '''\n",
        "\n",
        "    def _memo_SBS(memo: dict[tuple[int, int], bool], target: int, idx: int):\n",
        "        if(idx in memo):\n",
        "            return memo[idx]\n",
        "        if(target == 0):\n",
        "            return True\n",
        "        elif(idx == -1 and target != 0):\n",
        "            return False\n",
        "        else:\n",
        "            if(target < A[idx]):\n",
        "                memo[idx] = _memo_SBS(memo, target, idx-1)\n",
        "                return memo[idx]\n",
        "            else:\n",
        "                memo[idx] = _memo_SBS(memo, target - A[idx], idx - 1)\n",
        "                return memo[idx]\n",
        "\n",
        "    return _memo_SBS(dict(), target, i)\n",
        "\n",
        "if __name__ == \"__main__\":\n",
        "\n",
        "    assert memo_rob([1, 2, 3], 2) == 4\n",
        "    assert memo_SBS([1, 2, 3], 4, 2)\n",
        "\n"
      ]
    }
  ]
}